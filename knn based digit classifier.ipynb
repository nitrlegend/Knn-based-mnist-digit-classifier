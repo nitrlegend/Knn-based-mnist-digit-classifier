{
 "cells": [
  {
   "cell_type": "code",
   "execution_count": 1,
   "metadata": {},
   "outputs": [],
   "source": [
    "# import the necessary packages\n",
    "#from __future__ import print_function\n",
    "import cv2\n",
    "import sklearn\n",
    "from sklearn.neighbors import KNeighborsClassifier\n",
    "#from sklearn.metrics import classification_report\n",
    "from sklearn import datasets\n",
    "from skimage import exposure\n",
    "import numpy as np\n",
    "import imutils\n",
    "from sklearn.model_selection import train_test_split\n",
    "\n",
    "# load the MNIST digits dataset\n",
    "mnist = datasets.load_digits()\n",
    "\n",
    "# take the MNIST data and construct the training and testing split, using 80% of the\n",
    "# data for training and 20% for testing\n",
    "(trainData, testData, trainLabels, testLabels) = train_test_split(np.array(mnist.data),\n",
    "mnist.target, test_size=0.2, random_state=42)\n",
    "\n",
    "# take 10% of the training data and use that for validation\n",
    "(trainData, valData, trainLabels, valLabels) = train_test_split(trainData, trainLabels,\n",
    "test_size=0.1, random_state=84)\n"
   ]
  },
  {
   "cell_type": "code",
   "execution_count": 2,
   "metadata": {},
   "outputs": [
    {
     "name": "stdout",
     "output_type": "stream",
     "text": [
      "k=59, accuracy=93.75%\n",
      "k=1 achieved highest accuracy of 93.75% on validation data\n"
     ]
    }
   ],
   "source": [
    "# initialize the values of k for our k-Nearest Neighbor classifier along with the\n",
    "# list of accuracies for each value of k\n",
    "kVals = range(1, 60, 2)\n",
    "accuracies = []\n",
    "\n",
    "# loop over various values of `k` for the k-Nearest Neighbor classifier\n",
    "for k in range(1, 60, 2):\n",
    "# train the k-Nearest Neighbor classifier with the current value of `k`\n",
    "    model = KNeighborsClassifier(n_neighbors=k)\n",
    "    model.fit(trainData, trainLabels)\n",
    "\n",
    "# evaluate the model and update the accuracies list\n",
    "score = model.score(valData, valLabels)\n",
    "print(\"k=%d, accuracy=%.2f%%\" % (k, score * 100))\n",
    "accuracies.append(score)\n",
    "\n",
    "# find the value of k that has the largest accuracy\n",
    "i = int(np.argmax(accuracies))\n",
    "print(\"k=%d achieved highest accuracy of %.2f%% on validation data\" % (kVals[i],\n",
    "accuracies[i] * 100))"
   ]
  },
  {
   "cell_type": "code",
   "execution_count": 3,
   "metadata": {},
   "outputs": [
    {
     "name": "stdout",
     "output_type": "stream",
     "text": [
      " predicted digit is: 1\n",
      " predicted digit is: 6\n",
      " predicted digit is: 1\n",
      " predicted digit is: 4\n"
     ]
    }
   ],
   "source": [
    "# loop over a few random digits\n",
    "for i in list(map(int, np.random.randint(0, high=len(testLabels), size=(4,)))):\n",
    "    # grab the image and classify it\n",
    "    image = testData[i]\n",
    "    prediction = model.predict(image.reshape(1, -1))[0]\n",
    "\n",
    "    # convert the image for a 64-dim array to an 8 x 8 image compatible with OpenCV,\n",
    "    # then resize it to 32 x 32 pixels so we can see it better\n",
    "    image = image.reshape((8, 8)).astype(\"uint8\")\n",
    "    image = exposure.rescale_intensity(image, out_range=(0, 255))\n",
    "    image = imutils.resize(image, width=32, inter=cv2.INTER_CUBIC)\n",
    "\n",
    "    # show the prediction\n",
    "    print(\" predicted digit is: {}\".format(prediction))\n",
    "    cv2.imshow(\"Image\", image)\n",
    "    cv2.waitKey(0)\n",
    "    "
   ]
  }
 ],
 "metadata": {
  "kernelspec": {
   "display_name": "Python 3",
   "language": "python",
   "name": "python3"
  },
  "language_info": {
   "codemirror_mode": {
    "name": "ipython",
    "version": 3
   },
   "file_extension": ".py",
   "mimetype": "text/x-python",
   "name": "python",
   "nbconvert_exporter": "python",
   "pygments_lexer": "ipython3",
   "version": "3.5.4"
  }
 },
 "nbformat": 4,
 "nbformat_minor": 2
}
